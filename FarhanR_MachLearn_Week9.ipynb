{
  "nbformat": 4,
  "nbformat_minor": 0,
  "metadata": {
    "colab": {
      "provenance": [],
      "authorship_tag": "ABX9TyOV4Q0la7yoYWZWi3sNqAoe",
      "include_colab_link": true
    },
    "kernelspec": {
      "name": "python3",
      "display_name": "Python 3"
    },
    "language_info": {
      "name": "python"
    }
  },
  "cells": [
    {
      "cell_type": "markdown",
      "metadata": {
        "id": "view-in-github",
        "colab_type": "text"
      },
      "source": [
        "<a href=\"https://colab.research.google.com/github/Farhanramazainn/FarhanR_MachLearn/blob/main/FarhanR_MachLearn_Week9.ipynb\" target=\"_parent\"><img src=\"https://colab.research.google.com/assets/colab-badge.svg\" alt=\"Open In Colab\"/></a>"
      ]
    },
    {
      "cell_type": "markdown",
      "source": [
        "NAMA : FARHAN RAMAZAIN\n",
        "\n",
        "KELAS : TI-3G\n",
        "\n",
        "NIM : 2141720209\n",
        "\n",
        "LinkGithub : https://github.com/Farhanramazainn/FarhanR_MachLearn/blob/main/FarhanR_MachLearn_Week9.ipynb"
      ],
      "metadata": {
        "id": "OWDQFIz3Gqf5"
      }
    },
    {
      "cell_type": "markdown",
      "source": [
        "**Job Sheet 9 : Perceptron dan ANN**"
      ],
      "metadata": {
        "id": "j-7v-ONRGX4F"
      }
    },
    {
      "cell_type": "markdown",
      "source": [
        "**PRAKTIKUM 1 : Klasifikasi Iris dengan Perceptron**"
      ],
      "metadata": {
        "id": "GtD79XntGvRJ"
      }
    },
    {
      "cell_type": "markdown",
      "source": [
        "**Pra Pengolahan Data**"
      ],
      "metadata": {
        "id": "v7Hq-fV9T2Lm"
      }
    },
    {
      "cell_type": "markdown",
      "source": [
        "Langkah 1 - Import Library"
      ],
      "metadata": {
        "id": "AqU9SzGgG2oa"
      }
    },
    {
      "cell_type": "code",
      "source": [
        "import numpy as np\n",
        "import matplotlib.pyplot as plt\n",
        "import pandas as pd\n",
        "import seaborn as sns"
      ],
      "metadata": {
        "id": "OZ0rLtccG5te"
      },
      "execution_count": null,
      "outputs": []
    },
    {
      "cell_type": "code",
      "source": [
        "from google.colab import files\n",
        "uploaded = files.upload()"
      ],
      "metadata": {
        "colab": {
          "base_uri": "https://localhost:8080/",
          "height": 73
        },
        "id": "b83Fa2GUHPUs",
        "outputId": "9de12e75-fbc1-4de6-baa2-a29e4cef1d77"
      },
      "execution_count": null,
      "outputs": [
        {
          "output_type": "display_data",
          "data": {
            "text/plain": [
              "<IPython.core.display.HTML object>"
            ],
            "text/html": [
              "\n",
              "     <input type=\"file\" id=\"files-b4b71091-c25b-4077-b9c7-c88f081eacdc\" name=\"files[]\" multiple disabled\n",
              "        style=\"border:none\" />\n",
              "     <output id=\"result-b4b71091-c25b-4077-b9c7-c88f081eacdc\">\n",
              "      Upload widget is only available when the cell has been executed in the\n",
              "      current browser session. Please rerun this cell to enable.\n",
              "      </output>\n",
              "      <script>// Copyright 2017 Google LLC\n",
              "//\n",
              "// Licensed under the Apache License, Version 2.0 (the \"License\");\n",
              "// you may not use this file except in compliance with the License.\n",
              "// You may obtain a copy of the License at\n",
              "//\n",
              "//      http://www.apache.org/licenses/LICENSE-2.0\n",
              "//\n",
              "// Unless required by applicable law or agreed to in writing, software\n",
              "// distributed under the License is distributed on an \"AS IS\" BASIS,\n",
              "// WITHOUT WARRANTIES OR CONDITIONS OF ANY KIND, either express or implied.\n",
              "// See the License for the specific language governing permissions and\n",
              "// limitations under the License.\n",
              "\n",
              "/**\n",
              " * @fileoverview Helpers for google.colab Python module.\n",
              " */\n",
              "(function(scope) {\n",
              "function span(text, styleAttributes = {}) {\n",
              "  const element = document.createElement('span');\n",
              "  element.textContent = text;\n",
              "  for (const key of Object.keys(styleAttributes)) {\n",
              "    element.style[key] = styleAttributes[key];\n",
              "  }\n",
              "  return element;\n",
              "}\n",
              "\n",
              "// Max number of bytes which will be uploaded at a time.\n",
              "const MAX_PAYLOAD_SIZE = 100 * 1024;\n",
              "\n",
              "function _uploadFiles(inputId, outputId) {\n",
              "  const steps = uploadFilesStep(inputId, outputId);\n",
              "  const outputElement = document.getElementById(outputId);\n",
              "  // Cache steps on the outputElement to make it available for the next call\n",
              "  // to uploadFilesContinue from Python.\n",
              "  outputElement.steps = steps;\n",
              "\n",
              "  return _uploadFilesContinue(outputId);\n",
              "}\n",
              "\n",
              "// This is roughly an async generator (not supported in the browser yet),\n",
              "// where there are multiple asynchronous steps and the Python side is going\n",
              "// to poll for completion of each step.\n",
              "// This uses a Promise to block the python side on completion of each step,\n",
              "// then passes the result of the previous step as the input to the next step.\n",
              "function _uploadFilesContinue(outputId) {\n",
              "  const outputElement = document.getElementById(outputId);\n",
              "  const steps = outputElement.steps;\n",
              "\n",
              "  const next = steps.next(outputElement.lastPromiseValue);\n",
              "  return Promise.resolve(next.value.promise).then((value) => {\n",
              "    // Cache the last promise value to make it available to the next\n",
              "    // step of the generator.\n",
              "    outputElement.lastPromiseValue = value;\n",
              "    return next.value.response;\n",
              "  });\n",
              "}\n",
              "\n",
              "/**\n",
              " * Generator function which is called between each async step of the upload\n",
              " * process.\n",
              " * @param {string} inputId Element ID of the input file picker element.\n",
              " * @param {string} outputId Element ID of the output display.\n",
              " * @return {!Iterable<!Object>} Iterable of next steps.\n",
              " */\n",
              "function* uploadFilesStep(inputId, outputId) {\n",
              "  const inputElement = document.getElementById(inputId);\n",
              "  inputElement.disabled = false;\n",
              "\n",
              "  const outputElement = document.getElementById(outputId);\n",
              "  outputElement.innerHTML = '';\n",
              "\n",
              "  const pickedPromise = new Promise((resolve) => {\n",
              "    inputElement.addEventListener('change', (e) => {\n",
              "      resolve(e.target.files);\n",
              "    });\n",
              "  });\n",
              "\n",
              "  const cancel = document.createElement('button');\n",
              "  inputElement.parentElement.appendChild(cancel);\n",
              "  cancel.textContent = 'Cancel upload';\n",
              "  const cancelPromise = new Promise((resolve) => {\n",
              "    cancel.onclick = () => {\n",
              "      resolve(null);\n",
              "    };\n",
              "  });\n",
              "\n",
              "  // Wait for the user to pick the files.\n",
              "  const files = yield {\n",
              "    promise: Promise.race([pickedPromise, cancelPromise]),\n",
              "    response: {\n",
              "      action: 'starting',\n",
              "    }\n",
              "  };\n",
              "\n",
              "  cancel.remove();\n",
              "\n",
              "  // Disable the input element since further picks are not allowed.\n",
              "  inputElement.disabled = true;\n",
              "\n",
              "  if (!files) {\n",
              "    return {\n",
              "      response: {\n",
              "        action: 'complete',\n",
              "      }\n",
              "    };\n",
              "  }\n",
              "\n",
              "  for (const file of files) {\n",
              "    const li = document.createElement('li');\n",
              "    li.append(span(file.name, {fontWeight: 'bold'}));\n",
              "    li.append(span(\n",
              "        `(${file.type || 'n/a'}) - ${file.size} bytes, ` +\n",
              "        `last modified: ${\n",
              "            file.lastModifiedDate ? file.lastModifiedDate.toLocaleDateString() :\n",
              "                                    'n/a'} - `));\n",
              "    const percent = span('0% done');\n",
              "    li.appendChild(percent);\n",
              "\n",
              "    outputElement.appendChild(li);\n",
              "\n",
              "    const fileDataPromise = new Promise((resolve) => {\n",
              "      const reader = new FileReader();\n",
              "      reader.onload = (e) => {\n",
              "        resolve(e.target.result);\n",
              "      };\n",
              "      reader.readAsArrayBuffer(file);\n",
              "    });\n",
              "    // Wait for the data to be ready.\n",
              "    let fileData = yield {\n",
              "      promise: fileDataPromise,\n",
              "      response: {\n",
              "        action: 'continue',\n",
              "      }\n",
              "    };\n",
              "\n",
              "    // Use a chunked sending to avoid message size limits. See b/62115660.\n",
              "    let position = 0;\n",
              "    do {\n",
              "      const length = Math.min(fileData.byteLength - position, MAX_PAYLOAD_SIZE);\n",
              "      const chunk = new Uint8Array(fileData, position, length);\n",
              "      position += length;\n",
              "\n",
              "      const base64 = btoa(String.fromCharCode.apply(null, chunk));\n",
              "      yield {\n",
              "        response: {\n",
              "          action: 'append',\n",
              "          file: file.name,\n",
              "          data: base64,\n",
              "        },\n",
              "      };\n",
              "\n",
              "      let percentDone = fileData.byteLength === 0 ?\n",
              "          100 :\n",
              "          Math.round((position / fileData.byteLength) * 100);\n",
              "      percent.textContent = `${percentDone}% done`;\n",
              "\n",
              "    } while (position < fileData.byteLength);\n",
              "  }\n",
              "\n",
              "  // All done.\n",
              "  yield {\n",
              "    response: {\n",
              "      action: 'complete',\n",
              "    }\n",
              "  };\n",
              "}\n",
              "\n",
              "scope.google = scope.google || {};\n",
              "scope.google.colab = scope.google.colab || {};\n",
              "scope.google.colab._files = {\n",
              "  _uploadFiles,\n",
              "  _uploadFilesContinue,\n",
              "};\n",
              "})(self);\n",
              "</script> "
            ]
          },
          "metadata": {}
        },
        {
          "output_type": "stream",
          "name": "stdout",
          "text": [
            "Saving iris.csv to iris.csv\n"
          ]
        }
      ]
    },
    {
      "cell_type": "markdown",
      "source": [
        "Langkah 2 - Load Data dan Visualisasi"
      ],
      "metadata": {
        "id": "Dk6d0xchG7ay"
      }
    },
    {
      "cell_type": "code",
      "source": [
        "df = pd.read_csv('iris.csv', header=None)\n",
        "setosa = df[df[4] == 'Iris-setosa']\n",
        "versicolor = df[df[4] == 'Iris-versicolor']\n",
        "virginica = df[df[4] == 'Iris-virginica']\n",
        "\n",
        "a, b = 0, 3\n",
        "plt.scatter(setosa[a], setosa[b], color='red', marker='o', label='setosa')\n",
        "plt.scatter(versicolor[a], versicolor[b], color='blue', marker='x', label='versicolor')\n",
        "\n",
        "plt.xlabel('Petal Length')\n",
        "plt.ylabel('Sepal Length')\n",
        "plt.legend(loc='upper left')\n",
        "plt.grid()\n",
        "plt.show()"
      ],
      "metadata": {
        "colab": {
          "base_uri": "https://localhost:8080/",
          "height": 449
        },
        "id": "jY3WDBAlG9dF",
        "outputId": "b14fb911-bf36-4090-bed1-828d2fed2708"
      },
      "execution_count": null,
      "outputs": [
        {
          "output_type": "display_data",
          "data": {
            "text/plain": [
              "<Figure size 640x480 with 1 Axes>"
            ],
            "image/png": "[encoded data removed]"
          },
          "metadata": {}
        }
      ]
    },
    {
      "cell_type": "markdown",
      "source": [
        "Langkah 3 - Membuat Kelas Perceptron"
      ],
      "metadata": {
        "id": "xmUuBpzXHab-"
      }
    },
    {
      "cell_type": "code",
      "source": [
        "class Perceptron(object):\n",
        "    def __init__(self, eta=0.01, n_iter=10):\n",
        "        self.eta = eta\n",
        "        self.n_iter = n_iter\n",
        "\n",
        "    def fit(self, X, y):\n",
        "\n",
        "        self.w_ = np.zeros(1 + X.shape[1])\n",
        "        self.errors_ = []\n",
        "\n",
        "        for _ in range(self.n_iter):\n",
        "            errors = 0\n",
        "            for xi, target in zip(X, y):\n",
        "                update = self.eta * (target - self.predict(xi))\n",
        "                self.w_[0] += update\n",
        "                self.w_[1:] += update * xi\n",
        "                errors += int(update != 0.0)\n",
        "            self.errors_.append(errors)\n",
        "        return self\n",
        "\n",
        "    def net_input(self, X):\n",
        "        return np.dot(X, self.w_[1:]) + self.w_[0]\n",
        "\n",
        "    def predict(self, X):\n",
        "        return np.where(self.net_input(X) >= 0.0, 1, -1)"
      ],
      "metadata": {
        "id": "hj85Yo1QHdMW"
      },
      "execution_count": null,
      "outputs": []
    },
    {
      "cell_type": "markdown",
      "source": [
        "Langkah 4 - Pilih Data dan Encoding Label"
      ],
      "metadata": {
        "id": "r9WYZIlGHfVO"
      }
    },
    {
      "cell_type": "code",
      "source": [
        "y = df.iloc[0:100, 4].values # pilih 100 data awal\n",
        "y = np.where(y == 'Iris-setosa', -1, 1) # ganti coding label\n",
        "X = df.iloc[0:100, [0, 3]].values # slice data latih"
      ],
      "metadata": {
        "id": "yoVNl7FqHhrD"
      },
      "execution_count": null,
      "outputs": []
    },
    {
      "cell_type": "markdown",
      "source": [
        "Langkah 5 - Fitting Model"
      ],
      "metadata": {
        "id": "-aIXFG3THjk2"
      }
    },
    {
      "cell_type": "code",
      "source": [
        "ppn = Perceptron(eta=0.1, n_iter=10)\n",
        "ppn.fit(X, y)"
      ],
      "metadata": {
        "colab": {
          "base_uri": "https://localhost:8080/"
        },
        "id": "eVRP7JdLHkPT",
        "outputId": "dfed273f-e8a8-4db5-eda8-8dd5184f0ee7"
      },
      "execution_count": null,
      "outputs": [
        {
          "output_type": "execute_result",
          "data": {
            "text/plain": [
              "<__main__.Perceptron at 0x7e75b7a7f9d0>"
            ]
          },
          "metadata": {},
          "execution_count": 7
        }
      ]
    },
    {
      "cell_type": "markdown",
      "source": [
        "Langkah 6 - Visualisasi Nilai Error Per Epoch"
      ],
      "metadata": {
        "id": "DivoU3uxHmmI"
      }
    },
    {
      "cell_type": "code",
      "source": [
        "plt.plot(range(1, len(ppn.errors_)+1), ppn.errors_)\n",
        "plt.xlabel('Epochs')\n",
        "plt.ylabel('Number of updates')\n",
        "plt.show()"
      ],
      "metadata": {
        "colab": {
          "base_uri": "https://localhost:8080/",
          "height": 449
        },
        "id": "_CDytvQpHnpG",
        "outputId": "f7ad94e0-89d3-446f-a1da-bd63490f67a1"
      },
      "execution_count": null,
      "outputs": [
        {
          "output_type": "display_data",
          "data": {
            "text/plain": [
              "<Figure size 640x480 with 1 Axes>"
            ],
            "image/png": "[encoded data removed]"
          },
          "metadata": {}
        }
      ]
    },
    {
      "cell_type": "markdown",
      "source": [
        "Langkah 7 - Visualiasasi Decision Boundary"
      ],
      "metadata": {
        "id": "V6hfNcM5Hpnq"
      }
    },
    {
      "cell_type": "code",
      "source": [
        "# buat fungsi untuk plot decision region\n",
        "\n",
        "from matplotlib.colors import ListedColormap\n",
        "\n",
        "def plot_decision_regions(X, y, classifier, resolution=0.02):\n",
        "    # setup marker generator and color map\n",
        "    markers = ('s', 'x', 'o', '^', 'v')\n",
        "    colors = ('r', 'b', 'g', 'k', 'grey')\n",
        "    cmap = ListedColormap(colors[:len(np.unique(y))])\n",
        "\n",
        "    # plot the decision regions by creating a pair of grid arrays xx1 and xx2 via meshgrid function in Numpy\n",
        "    x1_min, x1_max = X[:, 0].min() - 1, X[:, 0].max() + 1\n",
        "    x2_min, x2_max = X[:, 1].min() - 1, X[:, 1].max() + 1\n",
        "    xx1, xx2 = np.meshgrid(np.arange(x1_min, x1_max, resolution), np.arange(x2_min, x2_max, resolution))\n",
        "\n",
        "    # use predict method to predict the class labels z of the grid points\n",
        "    Z = classifier.predict(np.array([xx1.ravel(),xx2.ravel()]).T)\n",
        "    Z = Z.reshape(xx1.shape)\n",
        "\n",
        "    # draw the contour using matplotlib\n",
        "    plt.contourf(xx1, xx2, Z, alpha=0.4, cmap=cmap)\n",
        "    plt.xlim(xx1.min(), xx1.max())\n",
        "    plt.ylim(xx2.min(), xx2.max())\n",
        "\n",
        "    # plot class samples\n",
        "    for i, cl in enumerate(np.unique(y)):\n",
        "        plt.scatter(x=X[y==cl, 0], y=X[y==cl, 1], alpha=0.8, c=cmap(i), marker=markers[i], label=cl)"
      ],
      "metadata": {
        "id": "KS2c06NGHq4V"
      },
      "execution_count": null,
      "outputs": []
    },
    {
      "cell_type": "code",
      "source": [
        "\n",
        "\n",
        "# hasil plot\n",
        "\n",
        "plot_decision_regions(X, y, ppn)\n",
        "plt.xlabel('sepal length [cm]')\n",
        "plt.ylabel('petal length [cm]')\n",
        "plt.legend(loc='upper left')\n",
        "plt.show()\n",
        "\n"
      ],
      "metadata": {
        "colab": {
          "base_uri": "https://localhost:8080/",
          "height": 504
        },
        "id": "cEZ_WVQJMGoM",
        "outputId": "5602f1bc-3ff3-4178-e6c9-6e0ff3a7e757"
      },
      "execution_count": null,
      "outputs": [
        {
          "output_type": "stream",
          "name": "stderr",
          "text": [
            "<ipython-input-29-a58a4a863c9c>:27: UserWarning: *c* argument looks like a single numeric RGB or RGBA sequence, which should be avoided as value-mapping will have precedence in case its length matches with *x* & *y*.  Please use the *color* keyword-argument or provide a 2D array with a single row if you intend to specify the same RGB or RGBA value for all points.\n",
            "  plt.scatter(x=X[y==cl, 0], y=X[y==cl, 1], alpha=0.8, c=cmap(i), marker=markers[i], label=cl)\n"
          ]
        },
        {
          "output_type": "display_data",
          "data": {
            "text/plain": [
              "<Figure size 640x480 with 1 Axes>"
            ],
            "image/png": "[encoded data removed]"
          },
          "metadata": {}
        }
      ]
    },
    {
      "cell_type": "markdown",
      "source": [
        "**PRAKTIKUM 2 : Klasifikasi Berita dengan Perceptron**"
      ],
      "metadata": {
        "id": "m6qDxBHKH082"
      }
    },
    {
      "cell_type": "markdown",
      "source": [
        "Langkah 1 - Import Library"
      ],
      "metadata": {
        "id": "4-hsS7dDH8Fs"
      }
    },
    {
      "cell_type": "code",
      "source": [
        "from sklearn.datasets import fetch_20newsgroups # download dataset\n",
        "from sklearn.feature_extraction.text import TfidfVectorizer\n",
        "from sklearn.linear_model import Perceptron\n",
        "from sklearn.metrics import f1_score, classification_report"
      ],
      "metadata": {
        "id": "KKf2kBdXH7FG"
      },
      "execution_count": null,
      "outputs": []
    },
    {
      "cell_type": "markdown",
      "source": [
        "Langkah 2 - Pilih Label dan Split Data"
      ],
      "metadata": {
        "id": "Vlmef5-_IB-q"
      }
    },
    {
      "cell_type": "code",
      "source": [
        "categories = ['rec.sport.hockey', 'rec.sport.baseball', 'rec.autos']\n",
        "newsgroups_train = fetch_20newsgroups(subset='train', categories=categories, remove=('headers', 'footers', 'quotes'))\n",
        "newsgroups_test = fetch_20newsgroups(subset='test', categories=categories, remove=('headers', 'footers', 'quotes'))"
      ],
      "metadata": {
        "id": "il8UeFFtIBC9"
      },
      "execution_count": null,
      "outputs": []
    },
    {
      "cell_type": "markdown",
      "source": [
        "Langkah 3 - Ekstrak Fitur dan Buat Model Perceptron"
      ],
      "metadata": {
        "id": "FqM1YbFwIF6v"
      }
    },
    {
      "cell_type": "code",
      "source": [
        "# Ekstrak Fitur\n",
        "vectorizer = TfidfVectorizer()\n",
        "\n",
        "# Fit fitur\n",
        "X_train = vectorizer.fit_transform(newsgroups_train.data)\n",
        "X_test = vectorizer.transform(newsgroups_test.data)\n",
        "\n",
        "# Fit Model\n",
        "clf = Perceptron(random_state=11)\n",
        "clf.fit(X_train, newsgroups_train.target)\n",
        "\n",
        "# Prediksi\n",
        "predictions = clf.predict(X_test)\n",
        "print(classification_report(newsgroups_test.target, predictions))"
      ],
      "metadata": {
        "colab": {
          "base_uri": "https://localhost:8080/"
        },
        "id": "Cu-AsFsYIIZv",
        "outputId": "6dc72ce8-1b82-4abd-e0aa-815f24adb8bd"
      },
      "execution_count": null,
      "outputs": [
        {
          "output_type": "stream",
          "name": "stdout",
          "text": [
            "              precision    recall  f1-score   support\n",
            "\n",
            "           0       0.88      0.88      0.88       396\n",
            "           1       0.82      0.83      0.83       397\n",
            "           2       0.88      0.87      0.87       399\n",
            "\n",
            "    accuracy                           0.86      1192\n",
            "   macro avg       0.86      0.86      0.86      1192\n",
            "weighted avg       0.86      0.86      0.86      1192\n",
            "\n"
          ]
        }
      ]
    },
    {
      "cell_type": "markdown",
      "source": [
        "**Penjelasan**\n",
        "Dataset yang digunakan pada kode program diatas adalah 20newsgroup yang terdiri dari sekitar 20.000 dokumen. Scikit-learn bahkan menyediakan fungsi yang memberikan kemudahan untuk mengunduh dan membaca kumpulan dataset dengan menggunakan sklearn.datasets. pada kode program diatas Perceptron mampu melakukan klasifikasi multikelas; strategi yang digunakan adalah one-versus-all untuk melakukan pelatihan untuk setiap kelas dalam data training. Dokumen teks memerlukan ekstraksi fitur salah satunya adalah bobot tf-idf pada kodeprogram diatas digunakan tfidf-vectorizer."
      ],
      "metadata": {
        "id": "4IwoHemuILt-"
      }
    },
    {
      "cell_type": "markdown",
      "source": [
        "**PRAKTIKUM 3 : Nilai Logika XOR dengan MLP**"
      ],
      "metadata": {
        "id": "Th_2FRB9IRph"
      }
    },
    {
      "cell_type": "markdown",
      "source": [
        "Langkah 1 - Import Library"
      ],
      "metadata": {
        "id": "1BDTRr2fIWd9"
      }
    },
    {
      "cell_type": "code",
      "source": [
        "from sklearn.neural_network import MLPClassifier"
      ],
      "metadata": {
        "id": "_zeFRzHFIYC2"
      },
      "execution_count": null,
      "outputs": []
    },
    {
      "cell_type": "markdown",
      "source": [
        "Langah 2 - Buat Data"
      ],
      "metadata": {
        "id": "d2cawuHmIZ0G"
      }
    },
    {
      "cell_type": "code",
      "source": [
        "y = [0, 1, 1, 0] # label\n",
        "X = [[0, 0], [0, 1], [1, 0], [1, 1]] # data"
      ],
      "metadata": {
        "id": "qXa4XEacIbDv"
      },
      "execution_count": null,
      "outputs": []
    },
    {
      "cell_type": "markdown",
      "source": [
        "Langkah 3 - Fit Model"
      ],
      "metadata": {
        "id": "UXdmcVpWIdO9"
      }
    },
    {
      "cell_type": "code",
      "source": [
        "# Fit model\n",
        "clf = MLPClassifier(solver='lbfgs', activation='logistic', hidden_layer_sizes=(2,), max_iter=100, random_state=20)\n",
        "clf.fit(X, y)"
      ],
      "metadata": {
        "colab": {
          "base_uri": "https://localhost:8080/",
          "height": 92
        },
        "id": "RxXFeTKrId8w",
        "outputId": "e1101e83-88f9-47c6-c9a3-54a8a46f0bbc"
      },
      "execution_count": null,
      "outputs": [
        {
          "output_type": "execute_result",
          "data": {
            "text/plain": [
              "MLPClassifier(activation='logistic', hidden_layer_sizes=(2,), max_iter=100,\n",
              "              random_state=20, solver='lbfgs')"
            ],
            "text/html": [
              "<style>#sk-container-id-1 {color: black;background-color: white;}#sk-container-id-1 pre{padding: 0;}#sk-container-id-1 div.sk-toggleable {background-color: white;}#sk-container-id-1 label.sk-toggleable__label {cursor: pointer;display: block;width: 100%;margin-bottom: 0;padding: 0.3em;box-sizing: border-box;text-align: center;}#sk-container-id-1 label.sk-toggleable__label-arrow:before {content: \"▸\";float: left;margin-right: 0.25em;color: #696969;}#sk-container-id-1 label.sk-toggleable__label-arrow:hover:before {color: black;}#sk-container-id-1 div.sk-estimator:hover label.sk-toggleable__label-arrow:before {color: black;}#sk-container-id-1 div.sk-toggleable__content {max-height: 0;max-width: 0;overflow: hidden;text-align: left;background-color: #f0f8ff;}#sk-container-id-1 div.sk-toggleable__content pre {margin: 0.2em;color: black;border-radius: 0.25em;background-color: #f0f8ff;}#sk-container-id-1 input.sk-toggleable__control:checked~div.sk-toggleable__content {max-height: 200px;max-width: 100%;overflow: auto;}#sk-container-id-1 input.sk-toggleable__control:checked~label.sk-toggleable__label-arrow:before {content: \"▾\";}#sk-container-id-1 div.sk-estimator input.sk-toggleable__control:checked~label.sk-toggleable__label {background-color: #d4ebff;}#sk-container-id-1 div.sk-label input.sk-toggleable__control:checked~label.sk-toggleable__label {background-color: #d4ebff;}#sk-container-id-1 input.sk-hidden--visually {border: 0;clip: rect(1px 1px 1px 1px);clip: rect(1px, 1px, 1px, 1px);height: 1px;margin: -1px;overflow: hidden;padding: 0;position: absolute;width: 1px;}#sk-container-id-1 div.sk-estimator {font-family: monospace;background-color: #f0f8ff;border: 1px dotted black;border-radius: 0.25em;box-sizing: border-box;margin-bottom: 0.5em;}#sk-container-id-1 div.sk-estimator:hover {background-color: #d4ebff;}#sk-container-id-1 div.sk-parallel-item::after {content: \"\";width: 100%;border-bottom: 1px solid gray;flex-grow: 1;}#sk-container-id-1 div.sk-label:hover label.sk-toggleable__label {background-color: #d4ebff;}#sk-container-id-1 div.sk-serial::before {content: \"\";position: absolute;border-left: 1px solid gray;box-sizing: border-box;top: 0;bottom: 0;left: 50%;z-index: 0;}#sk-container-id-1 div.sk-serial {display: flex;flex-direction: column;align-items: center;background-color: white;padding-right: 0.2em;padding-left: 0.2em;position: relative;}#sk-container-id-1 div.sk-item {position: relative;z-index: 1;}#sk-container-id-1 div.sk-parallel {display: flex;align-items: stretch;justify-content: center;background-color: white;position: relative;}#sk-container-id-1 div.sk-item::before, #sk-container-id-1 div.sk-parallel-item::before {content: \"\";position: absolute;border-left: 1px solid gray;box-sizing: border-box;top: 0;bottom: 0;left: 50%;z-index: -1;}#sk-container-id-1 div.sk-parallel-item {display: flex;flex-direction: column;z-index: 1;position: relative;background-color: white;}#sk-container-id-1 div.sk-parallel-item:first-child::after {align-self: flex-end;width: 50%;}#sk-container-id-1 div.sk-parallel-item:last-child::after {align-self: flex-start;width: 50%;}#sk-container-id-1 div.sk-parallel-item:only-child::after {width: 0;}#sk-container-id-1 div.sk-dashed-wrapped {border: 1px dashed gray;margin: 0 0.4em 0.5em 0.4em;box-sizing: border-box;padding-bottom: 0.4em;background-color: white;}#sk-container-id-1 div.sk-label label {font-family: monospace;font-weight: bold;display: inline-block;line-height: 1.2em;}#sk-container-id-1 div.sk-label-container {text-align: center;}#sk-container-id-1 div.sk-container {/* jupyter's `normalize.less` sets `[hidden] { display: none; }` but bootstrap.min.css set `[hidden] { display: none !important; }` so we also need the `!important` here to be able to override the default hidden behavior on the sphinx rendered scikit-learn.org. See: https://github.com/scikit-learn/scikit-learn/issues/21755 */display: inline-block !important;position: relative;}#sk-container-id-1 div.sk-text-repr-fallback {display: none;}</style><div id=\"sk-container-id-1\" class=\"sk-top-container\"><div class=\"sk-text-repr-fallback\"><pre>MLPClassifier(activation=&#x27;logistic&#x27;, hidden_layer_sizes=(2,), max_iter=100,\n",
              "              random_state=20, solver=&#x27;lbfgs&#x27;)</pre><b>In a Jupyter environment, please rerun this cell to show the HTML representation or trust the notebook. <br />On GitHub, the HTML representation is unable to render, please try loading this page with nbviewer.org.</b></div><div class=\"sk-container\" hidden><div class=\"sk-item\"><div class=\"sk-estimator sk-toggleable\"><input class=\"sk-toggleable__control sk-hidden--visually\" id=\"sk-estimator-id-1\" type=\"checkbox\" checked><label for=\"sk-estimator-id-1\" class=\"sk-toggleable__label sk-toggleable__label-arrow\">MLPClassifier</label><div class=\"sk-toggleable__content\"><pre>MLPClassifier(activation=&#x27;logistic&#x27;, hidden_layer_sizes=(2,), max_iter=100,\n",
              "              random_state=20, solver=&#x27;lbfgs&#x27;)</pre></div></div></div></div></div>"
            ]
          },
          "metadata": {},
          "execution_count": 16
        }
      ]
    },
    {
      "cell_type": "markdown",
      "source": [
        "Langkah 4 - Prediksi"
      ],
      "metadata": {
        "id": "A1nVANBuIgWz"
      }
    },
    {
      "cell_type": "code",
      "source": [
        "pred = clf.predict(X)\n",
        "print('Accuracy: %s' % clf.score(X, y))\n",
        "for i,p in enumerate(pred[:10]):\n",
        "    print('True: %s, Predicted: %s' % (y[i], p))"
      ],
      "metadata": {
        "colab": {
          "base_uri": "https://localhost:8080/"
        },
        "id": "3tk4E_a7Ihqs",
        "outputId": "12cea95f-ba54-4c97-d6e3-bd80e6c58d97"
      },
      "execution_count": null,
      "outputs": [
        {
          "output_type": "stream",
          "name": "stdout",
          "text": [
            "Accuracy: 1.0\n",
            "True: 0, Predicted: 0\n",
            "True: 1, Predicted: 1\n",
            "True: 1, Predicted: 1\n",
            "True: 0, Predicted: 0\n"
          ]
        }
      ]
    },
    {
      "cell_type": "markdown",
      "source": [
        "**PRAKTIKUM 4 : Klasifikasi dengan ANN**"
      ],
      "metadata": {
        "id": "kf531JPAIjqv"
      }
    },
    {
      "cell_type": "markdown",
      "source": [
        "Langkah 1 - Import Library"
      ],
      "metadata": {
        "id": "4bPT8zQrIoL6"
      }
    },
    {
      "cell_type": "code",
      "source": [
        "import numpy as np\n",
        "import pandas as pd\n",
        "import tensorflow as tf"
      ],
      "metadata": {
        "id": "MctW7MsaRKWB"
      },
      "execution_count": null,
      "outputs": []
    },
    {
      "cell_type": "markdown",
      "source": [
        "Langkah 2 - Load Data"
      ],
      "metadata": {
        "id": "kMB2w-mORNhS"
      }
    },
    {
      "cell_type": "code",
      "source": [
        "from google.colab import files\n",
        "uploaded = files.upload()"
      ],
      "metadata": {
        "colab": {
          "base_uri": "https://localhost:8080/",
          "height": 73
        },
        "id": "zbkZRQtTRVSu",
        "outputId": "be0939a4-8c28-4da7-88f9-63dfa99a7edd"
      },
      "execution_count": null,
      "outputs": [
        {
          "output_type": "display_data",
          "data": {
            "text/plain": [
              "<IPython.core.display.HTML object>"
            ],
            "text/html": [
              "\n",
              "     <input type=\"file\" id=\"files-b6159247-c01f-474e-9536-92a64a599d7e\" name=\"files[]\" multiple disabled\n",
              "        style=\"border:none\" />\n",
              "     <output id=\"result-b6159247-c01f-474e-9536-92a64a599d7e\">\n",
              "      Upload widget is only available when the cell has been executed in the\n",
              "      current browser session. Please rerun this cell to enable.\n",
              "      </output>\n",
              "      <script>// Copyright 2017 Google LLC\n",
              "//\n",
              "// Licensed under the Apache License, Version 2.0 (the \"License\");\n",
              "// you may not use this file except in compliance with the License.\n",
              "// You may obtain a copy of the License at\n",
              "//\n",
              "//      http://www.apache.org/licenses/LICENSE-2.0\n",
              "//\n",
              "// Unless required by applicable law or agreed to in writing, software\n",
              "// distributed under the License is distributed on an \"AS IS\" BASIS,\n",
              "// WITHOUT WARRANTIES OR CONDITIONS OF ANY KIND, either express or implied.\n",
              "// See the License for the specific language governing permissions and\n",
              "// limitations under the License.\n",
              "\n",
              "/**\n",
              " * @fileoverview Helpers for google.colab Python module.\n",
              " */\n",
              "(function(scope) {\n",
              "function span(text, styleAttributes = {}) {\n",
              "  const element = document.createElement('span');\n",
              "  element.textContent = text;\n",
              "  for (const key of Object.keys(styleAttributes)) {\n",
              "    element.style[key] = styleAttributes[key];\n",
              "  }\n",
              "  return element;\n",
              "}\n",
              "\n",
              "// Max number of bytes which will be uploaded at a time.\n",
              "const MAX_PAYLOAD_SIZE = 100 * 1024;\n",
              "\n",
              "function _uploadFiles(inputId, outputId) {\n",
              "  const steps = uploadFilesStep(inputId, outputId);\n",
              "  const outputElement = document.getElementById(outputId);\n",
              "  // Cache steps on the outputElement to make it available for the next call\n",
              "  // to uploadFilesContinue from Python.\n",
              "  outputElement.steps = steps;\n",
              "\n",
              "  return _uploadFilesContinue(outputId);\n",
              "}\n",
              "\n",
              "// This is roughly an async generator (not supported in the browser yet),\n",
              "// where there are multiple asynchronous steps and the Python side is going\n",
              "// to poll for completion of each step.\n",
              "// This uses a Promise to block the python side on completion of each step,\n",
              "// then passes the result of the previous step as the input to the next step.\n",
              "function _uploadFilesContinue(outputId) {\n",
              "  const outputElement = document.getElementById(outputId);\n",
              "  const steps = outputElement.steps;\n",
              "\n",
              "  const next = steps.next(outputElement.lastPromiseValue);\n",
              "  return Promise.resolve(next.value.promise).then((value) => {\n",
              "    // Cache the last promise value to make it available to the next\n",
              "    // step of the generator.\n",
              "    outputElement.lastPromiseValue = value;\n",
              "    return next.value.response;\n",
              "  });\n",
              "}\n",
              "\n",
              "/**\n",
              " * Generator function which is called between each async step of the upload\n",
              " * process.\n",
              " * @param {string} inputId Element ID of the input file picker element.\n",
              " * @param {string} outputId Element ID of the output display.\n",
              " * @return {!Iterable<!Object>} Iterable of next steps.\n",
              " */\n",
              "function* uploadFilesStep(inputId, outputId) {\n",
              "  const inputElement = document.getElementById(inputId);\n",
              "  inputElement.disabled = false;\n",
              "\n",
              "  const outputElement = document.getElementById(outputId);\n",
              "  outputElement.innerHTML = '';\n",
              "\n",
              "  const pickedPromise = new Promise((resolve) => {\n",
              "    inputElement.addEventListener('change', (e) => {\n",
              "      resolve(e.target.files);\n",
              "    });\n",
              "  });\n",
              "\n",
              "  const cancel = document.createElement('button');\n",
              "  inputElement.parentElement.appendChild(cancel);\n",
              "  cancel.textContent = 'Cancel upload';\n",
              "  const cancelPromise = new Promise((resolve) => {\n",
              "    cancel.onclick = () => {\n",
              "      resolve(null);\n",
              "    };\n",
              "  });\n",
              "\n",
              "  // Wait for the user to pick the files.\n",
              "  const files = yield {\n",
              "    promise: Promise.race([pickedPromise, cancelPromise]),\n",
              "    response: {\n",
              "      action: 'starting',\n",
              "    }\n",
              "  };\n",
              "\n",
              "  cancel.remove();\n",
              "\n",
              "  // Disable the input element since further picks are not allowed.\n",
              "  inputElement.disabled = true;\n",
              "\n",
              "  if (!files) {\n",
              "    return {\n",
              "      response: {\n",
              "        action: 'complete',\n",
              "      }\n",
              "    };\n",
              "  }\n",
              "\n",
              "  for (const file of files) {\n",
              "    const li = document.createElement('li');\n",
              "    li.append(span(file.name, {fontWeight: 'bold'}));\n",
              "    li.append(span(\n",
              "        `(${file.type || 'n/a'}) - ${file.size} bytes, ` +\n",
              "        `last modified: ${\n",
              "            file.lastModifiedDate ? file.lastModifiedDate.toLocaleDateString() :\n",
              "                                    'n/a'} - `));\n",
              "    const percent = span('0% done');\n",
              "    li.appendChild(percent);\n",
              "\n",
              "    outputElement.appendChild(li);\n",
              "\n",
              "    const fileDataPromise = new Promise((resolve) => {\n",
              "      const reader = new FileReader();\n",
              "      reader.onload = (e) => {\n",
              "        resolve(e.target.result);\n",
              "      };\n",
              "      reader.readAsArrayBuffer(file);\n",
              "    });\n",
              "    // Wait for the data to be ready.\n",
              "    let fileData = yield {\n",
              "      promise: fileDataPromise,\n",
              "      response: {\n",
              "        action: 'continue',\n",
              "      }\n",
              "    };\n",
              "\n",
              "    // Use a chunked sending to avoid message size limits. See b/62115660.\n",
              "    let position = 0;\n",
              "    do {\n",
              "      const length = Math.min(fileData.byteLength - position, MAX_PAYLOAD_SIZE);\n",
              "      const chunk = new Uint8Array(fileData, position, length);\n",
              "      position += length;\n",
              "\n",
              "      const base64 = btoa(String.fromCharCode.apply(null, chunk));\n",
              "      yield {\n",
              "        response: {\n",
              "          action: 'append',\n",
              "          file: file.name,\n",
              "          data: base64,\n",
              "        },\n",
              "      };\n",
              "\n",
              "      let percentDone = fileData.byteLength === 0 ?\n",
              "          100 :\n",
              "          Math.round((position / fileData.byteLength) * 100);\n",
              "      percent.textContent = `${percentDone}% done`;\n",
              "\n",
              "    } while (position < fileData.byteLength);\n",
              "  }\n",
              "\n",
              "  // All done.\n",
              "  yield {\n",
              "    response: {\n",
              "      action: 'complete',\n",
              "    }\n",
              "  };\n",
              "}\n",
              "\n",
              "scope.google = scope.google || {};\n",
              "scope.google.colab = scope.google.colab || {};\n",
              "scope.google.colab._files = {\n",
              "  _uploadFiles,\n",
              "  _uploadFilesContinue,\n",
              "};\n",
              "})(self);\n",
              "</script> "
            ]
          },
          "metadata": {}
        },
        {
          "output_type": "stream",
          "name": "stdout",
          "text": [
            "Saving Churn_Modelling.csv to Churn_Modelling.csv\n"
          ]
        }
      ]
    },
    {
      "cell_type": "code",
      "source": [
        "dataset = pd.read_csv('Churn_Modelling.csv')\n",
        "X = dataset.iloc[:, 3:-1].values\n",
        "y = dataset.iloc[:, -1].values"
      ],
      "metadata": {
        "id": "oZJb0-5DRPXr"
      },
      "execution_count": null,
      "outputs": []
    },
    {
      "cell_type": "markdown",
      "source": [
        "Cek Data (X)"
      ],
      "metadata": {
        "id": "ckczs1-XSA9l"
      }
    },
    {
      "cell_type": "code",
      "source": [
        "print(X)"
      ],
      "metadata": {
        "colab": {
          "base_uri": "https://localhost:8080/"
        },
        "id": "lJMCJVbTRedz",
        "outputId": "559b5e36-d22b-4a88-e774-655577d492e3"
      },
      "execution_count": null,
      "outputs": [
        {
          "output_type": "stream",
          "name": "stdout",
          "text": [
            "[[619 'France' 'Female' ... 1 1 101348.88]\n",
            " [608 'Spain' 'Female' ... 0 1 112542.58]\n",
            " [502 'France' 'Female' ... 1 0 113931.57]\n",
            " ...\n",
            " [709 'France' 'Female' ... 0 1 42085.58]\n",
            " [772 'Germany' 'Male' ... 1 0 92888.52]\n",
            " [792 'France' 'Female' ... 1 0 38190.78]]\n"
          ]
        }
      ]
    },
    {
      "cell_type": "markdown",
      "source": [
        "Langkah 3 - Encoding Data Kategorikal"
      ],
      "metadata": {
        "id": "epJgNY6bSECB"
      }
    },
    {
      "cell_type": "code",
      "source": [
        "from sklearn.preprocessing import LabelEncoder\n",
        "le = LabelEncoder()\n",
        "X[:, 2] = le.fit_transform(X[:, 2])"
      ],
      "metadata": {
        "id": "ONAPJHcdSFaL"
      },
      "execution_count": null,
      "outputs": []
    },
    {
      "cell_type": "code",
      "source": [
        "print(X)"
      ],
      "metadata": {
        "colab": {
          "base_uri": "https://localhost:8080/"
        },
        "id": "q_heCBjjSK0y",
        "outputId": "fa721d18-592b-49f2-840e-e0510868a972"
      },
      "execution_count": null,
      "outputs": [
        {
          "output_type": "stream",
          "name": "stdout",
          "text": [
            "[[619 'France' 0 ... 1 1 101348.88]\n",
            " [608 'Spain' 0 ... 0 1 112542.58]\n",
            " [502 'France' 0 ... 1 0 113931.57]\n",
            " ...\n",
            " [709 'France' 0 ... 0 1 42085.58]\n",
            " [772 'Germany' 1 ... 1 0 92888.52]\n",
            " [792 'France' 0 ... 1 0 38190.78]]\n"
          ]
        }
      ]
    },
    {
      "cell_type": "markdown",
      "source": [
        "Langkah 4 - Encoding Kolom \"Geography\" dengan One Hot Encoder"
      ],
      "metadata": {
        "id": "FZOQ2KfSSZei"
      }
    },
    {
      "cell_type": "code",
      "source": [
        "from sklearn.compose import ColumnTransformer\n",
        "from sklearn.preprocessing import OneHotEncoder\n",
        "ct = ColumnTransformer(transformers=[('encoder', OneHotEncoder(), [1])], remainder='passthrough')\n",
        "X = np.array(ct.fit_transform(X))"
      ],
      "metadata": {
        "id": "phTxXh6gSabe"
      },
      "execution_count": null,
      "outputs": []
    },
    {
      "cell_type": "code",
      "source": [
        "print(X)"
      ],
      "metadata": {
        "colab": {
          "base_uri": "https://localhost:8080/"
        },
        "id": "j1AwSfXPScbw",
        "outputId": "b5711d9a-500b-46fb-c106-8db728c90dcd"
      },
      "execution_count": null,
      "outputs": [
        {
          "output_type": "stream",
          "name": "stdout",
          "text": [
            "[[1.0 0.0 0.0 ... 1 1 101348.88]\n",
            " [0.0 0.0 1.0 ... 0 1 112542.58]\n",
            " [1.0 0.0 0.0 ... 1 0 113931.57]\n",
            " ...\n",
            " [1.0 0.0 0.0 ... 0 1 42085.58]\n",
            " [0.0 1.0 0.0 ... 1 0 92888.52]\n",
            " [1.0 0.0 0.0 ... 1 0 38190.78]]\n"
          ]
        }
      ]
    },
    {
      "cell_type": "markdown",
      "source": [
        "Langkah 5 - Split Data"
      ],
      "metadata": {
        "id": "IWyzzj2GTR1J"
      }
    },
    {
      "cell_type": "code",
      "source": [
        "from sklearn.model_selection import train_test_split\n",
        "X_train, X_test, y_train, y_test = train_test_split(X, y, test_size = 0.2, random_state = 0)"
      ],
      "metadata": {
        "id": "Ryyy2RAETTMZ"
      },
      "execution_count": null,
      "outputs": []
    },
    {
      "cell_type": "markdown",
      "source": [
        "Langkah 6 - Scaling Fitur"
      ],
      "metadata": {
        "id": "_psfvcmkTWLF"
      }
    },
    {
      "cell_type": "code",
      "source": [
        "from sklearn.preprocessing import StandardScaler\n",
        "sc = StandardScaler()\n",
        "X_train = sc.fit_transform(X_train)\n",
        "X_test = sc.transform(X_test)"
      ],
      "metadata": {
        "id": "p0-gP9YITYfe"
      },
      "execution_count": null,
      "outputs": []
    },
    {
      "cell_type": "markdown",
      "source": [
        "**Membuat Model ANN**"
      ],
      "metadata": {
        "id": "eDO2Ml9vTaxe"
      }
    },
    {
      "cell_type": "markdown",
      "source": [
        "Langkah 1 - Inisiasi Model ANN"
      ],
      "metadata": {
        "id": "5gewf-rQTcM4"
      }
    },
    {
      "cell_type": "code",
      "source": [
        "ann = tf.keras.models.Sequential()"
      ],
      "metadata": {
        "id": "h8KH0zJDTcCE"
      },
      "execution_count": null,
      "outputs": []
    },
    {
      "cell_type": "markdown",
      "source": [
        "Langkah 2 - Membuat Input Layer dan Hidden Layer Pertama"
      ],
      "metadata": {
        "id": "FsRl8UKiTg8B"
      }
    },
    {
      "cell_type": "code",
      "source": [
        "ann.add(tf.keras.layers.Dense(units=6, activation='relu'))"
      ],
      "metadata": {
        "id": "1HE7kkI4ThgO"
      },
      "execution_count": null,
      "outputs": []
    },
    {
      "cell_type": "markdown",
      "source": [
        "Langkah 3 - Membuat Hidden Layer Kedua"
      ],
      "metadata": {
        "id": "IAXyJH-zTijI"
      }
    },
    {
      "cell_type": "code",
      "source": [
        "ann.add(tf.keras.layers.Dense(units=6, activation='relu'))"
      ],
      "metadata": {
        "id": "bo0WhuZoTkV2"
      },
      "execution_count": null,
      "outputs": []
    },
    {
      "cell_type": "markdown",
      "source": [
        "Langkah 4 - Membuat Output Layer"
      ],
      "metadata": {
        "id": "i6veqYUZTnCO"
      }
    },
    {
      "cell_type": "code",
      "source": [
        "ann.add(tf.keras.layers.Dense(units=1, activation='sigmoid'))"
      ],
      "metadata": {
        "id": "xhw2qgWsTnxx"
      },
      "execution_count": null,
      "outputs": []
    },
    {
      "cell_type": "markdown",
      "source": [
        "**Training Model**"
      ],
      "metadata": {
        "id": "rvCgUKICTqcN"
      }
    },
    {
      "cell_type": "markdown",
      "source": [
        "Langkah 1 - Compile Model (Menyatukan Arsitektur) ANN"
      ],
      "metadata": {
        "id": "jULN26_6Tr1_"
      }
    },
    {
      "cell_type": "code",
      "source": [
        "ann.compile(optimizer = 'adam', loss = 'binary_crossentropy', metrics = ['accuracy'])"
      ],
      "metadata": {
        "id": "0V6ReRuoT6Oa"
      },
      "execution_count": null,
      "outputs": []
    },
    {
      "cell_type": "markdown",
      "source": [
        "Langkah 2 - Fitting Model"
      ],
      "metadata": {
        "id": "U1qsd6XDT-W8"
      }
    },
    {
      "cell_type": "code",
      "source": [
        "ann.fit(X_train, y_train, batch_size = 32, epochs = 100)"
      ],
      "metadata": {
        "colab": {
          "base_uri": "https://localhost:8080/"
        },
        "id": "3Ul0cvUMT-7g",
        "outputId": "0d211483-2b54-4b42-cf44-69d429785ce0"
      },
      "execution_count": null,
      "outputs": [
        {
          "output_type": "stream",
          "name": "stdout",
          "text": [
            "Epoch 1/100\n",
            "250/250 [==============================] - 3s 6ms/step - loss: 0.6049 - accuracy: 0.6988\n",
            "Epoch 2/100\n",
            "250/250 [==============================] - 1s 5ms/step - loss: 0.4600 - accuracy: 0.8046\n",
            "Epoch 3/100\n",
            "250/250 [==============================] - 1s 3ms/step - loss: 0.4318 - accuracy: 0.8135\n",
            "Epoch 4/100\n",
            "250/250 [==============================] - 1s 3ms/step - loss: 0.4201 - accuracy: 0.8184\n",
            "Epoch 5/100\n",
            "250/250 [==============================] - 1s 3ms/step - loss: 0.4129 - accuracy: 0.8216\n",
            "Epoch 6/100\n",
            "250/250 [==============================] - 1s 3ms/step - loss: 0.4063 - accuracy: 0.8266\n",
            "Epoch 7/100\n",
            "250/250 [==============================] - 1s 3ms/step - loss: 0.4005 - accuracy: 0.8303\n",
            "Epoch 8/100\n",
            "250/250 [==============================] - 1s 3ms/step - loss: 0.3939 - accuracy: 0.8344\n",
            "Epoch 9/100\n",
            "250/250 [==============================] - 1s 3ms/step - loss: 0.3869 - accuracy: 0.8378\n",
            "Epoch 10/100\n",
            "250/250 [==============================] - 1s 2ms/step - loss: 0.3785 - accuracy: 0.8415\n",
            "Epoch 11/100\n",
            "250/250 [==============================] - 1s 4ms/step - loss: 0.3723 - accuracy: 0.8459\n",
            "Epoch 12/100\n",
            "250/250 [==============================] - 1s 4ms/step - loss: 0.3669 - accuracy: 0.8478\n",
            "Epoch 13/100\n",
            "250/250 [==============================] - 1s 3ms/step - loss: 0.3636 - accuracy: 0.8480\n",
            "Epoch 14/100\n",
            "250/250 [==============================] - 1s 3ms/step - loss: 0.3610 - accuracy: 0.8497\n",
            "Epoch 15/100\n",
            "250/250 [==============================] - 1s 4ms/step - loss: 0.3591 - accuracy: 0.8509\n",
            "Epoch 16/100\n",
            "250/250 [==============================] - 1s 3ms/step - loss: 0.3575 - accuracy: 0.8506\n",
            "Epoch 17/100\n",
            "250/250 [==============================] - 1s 3ms/step - loss: 0.3559 - accuracy: 0.8511\n",
            "Epoch 18/100\n",
            "250/250 [==============================] - 1s 3ms/step - loss: 0.3547 - accuracy: 0.8535\n",
            "Epoch 19/100\n",
            "250/250 [==============================] - 1s 2ms/step - loss: 0.3542 - accuracy: 0.8522\n",
            "Epoch 20/100\n",
            "250/250 [==============================] - 0s 2ms/step - loss: 0.3533 - accuracy: 0.8545\n",
            "Epoch 21/100\n",
            "250/250 [==============================] - 0s 2ms/step - loss: 0.3522 - accuracy: 0.8534\n",
            "Epoch 22/100\n",
            "250/250 [==============================] - 0s 2ms/step - loss: 0.3516 - accuracy: 0.8559\n",
            "Epoch 23/100\n",
            "250/250 [==============================] - 0s 2ms/step - loss: 0.3507 - accuracy: 0.8551\n",
            "Epoch 24/100\n",
            "250/250 [==============================] - 0s 2ms/step - loss: 0.3499 - accuracy: 0.8561\n",
            "Epoch 25/100\n",
            "250/250 [==============================] - 0s 2ms/step - loss: 0.3486 - accuracy: 0.8564\n",
            "Epoch 26/100\n",
            "250/250 [==============================] - 0s 2ms/step - loss: 0.3480 - accuracy: 0.8568\n",
            "Epoch 27/100\n",
            "250/250 [==============================] - 0s 2ms/step - loss: 0.3475 - accuracy: 0.8565\n",
            "Epoch 28/100\n",
            "250/250 [==============================] - 0s 2ms/step - loss: 0.3468 - accuracy: 0.8570\n",
            "Epoch 29/100\n",
            "250/250 [==============================] - 0s 2ms/step - loss: 0.3456 - accuracy: 0.8585\n",
            "Epoch 30/100\n",
            "250/250 [==============================] - 0s 2ms/step - loss: 0.3454 - accuracy: 0.8593\n",
            "Epoch 31/100\n",
            "250/250 [==============================] - 0s 2ms/step - loss: 0.3446 - accuracy: 0.8597\n",
            "Epoch 32/100\n",
            "250/250 [==============================] - 0s 2ms/step - loss: 0.3441 - accuracy: 0.8589\n",
            "Epoch 33/100\n",
            "250/250 [==============================] - 0s 2ms/step - loss: 0.3439 - accuracy: 0.8610\n",
            "Epoch 34/100\n",
            "250/250 [==============================] - 0s 2ms/step - loss: 0.3428 - accuracy: 0.8612\n",
            "Epoch 35/100\n",
            "250/250 [==============================] - 0s 2ms/step - loss: 0.3424 - accuracy: 0.8618\n",
            "Epoch 36/100\n",
            "250/250 [==============================] - 0s 2ms/step - loss: 0.3422 - accuracy: 0.8605\n",
            "Epoch 37/100\n",
            "250/250 [==============================] - 0s 2ms/step - loss: 0.3421 - accuracy: 0.8614\n",
            "Epoch 38/100\n",
            "250/250 [==============================] - 0s 2ms/step - loss: 0.3414 - accuracy: 0.8637\n",
            "Epoch 39/100\n",
            "250/250 [==============================] - 0s 2ms/step - loss: 0.3415 - accuracy: 0.8616\n",
            "Epoch 40/100\n",
            "250/250 [==============================] - 1s 3ms/step - loss: 0.3411 - accuracy: 0.8622\n",
            "Epoch 41/100\n",
            "250/250 [==============================] - 1s 3ms/step - loss: 0.3410 - accuracy: 0.8619\n",
            "Epoch 42/100\n",
            "250/250 [==============================] - 1s 3ms/step - loss: 0.3403 - accuracy: 0.8609\n",
            "Epoch 43/100\n",
            "250/250 [==============================] - 1s 3ms/step - loss: 0.3404 - accuracy: 0.8625\n",
            "Epoch 44/100\n",
            "250/250 [==============================] - 1s 2ms/step - loss: 0.3403 - accuracy: 0.8635\n",
            "Epoch 45/100\n",
            "250/250 [==============================] - 0s 2ms/step - loss: 0.3402 - accuracy: 0.8631\n",
            "Epoch 46/100\n",
            "250/250 [==============================] - 0s 2ms/step - loss: 0.3399 - accuracy: 0.8646\n",
            "Epoch 47/100\n",
            "250/250 [==============================] - 0s 2ms/step - loss: 0.3396 - accuracy: 0.8636\n",
            "Epoch 48/100\n",
            "250/250 [==============================] - 0s 2ms/step - loss: 0.3397 - accuracy: 0.8630\n",
            "Epoch 49/100\n",
            "250/250 [==============================] - 0s 2ms/step - loss: 0.3395 - accuracy: 0.8621\n",
            "Epoch 50/100\n",
            "250/250 [==============================] - 0s 2ms/step - loss: 0.3393 - accuracy: 0.8629\n",
            "Epoch 51/100\n",
            "250/250 [==============================] - 0s 2ms/step - loss: 0.3389 - accuracy: 0.8646\n",
            "Epoch 52/100\n",
            "250/250 [==============================] - 0s 2ms/step - loss: 0.3389 - accuracy: 0.8640\n",
            "Epoch 53/100\n",
            "250/250 [==============================] - 0s 2ms/step - loss: 0.3388 - accuracy: 0.8649\n",
            "Epoch 54/100\n",
            "250/250 [==============================] - 0s 2ms/step - loss: 0.3385 - accuracy: 0.8641\n",
            "Epoch 55/100\n",
            "250/250 [==============================] - 0s 2ms/step - loss: 0.3383 - accuracy: 0.8662\n",
            "Epoch 56/100\n",
            "250/250 [==============================] - 0s 2ms/step - loss: 0.3385 - accuracy: 0.8634\n",
            "Epoch 57/100\n",
            "250/250 [==============================] - 0s 2ms/step - loss: 0.3381 - accuracy: 0.8645\n",
            "Epoch 58/100\n",
            "250/250 [==============================] - 0s 2ms/step - loss: 0.3382 - accuracy: 0.8650\n",
            "Epoch 59/100\n",
            "250/250 [==============================] - 0s 2ms/step - loss: 0.3381 - accuracy: 0.8636\n",
            "Epoch 60/100\n",
            "250/250 [==============================] - 0s 2ms/step - loss: 0.3379 - accuracy: 0.8648\n",
            "Epoch 61/100\n",
            "250/250 [==============================] - 0s 2ms/step - loss: 0.3378 - accuracy: 0.8640\n",
            "Epoch 62/100\n",
            "250/250 [==============================] - 0s 2ms/step - loss: 0.3376 - accuracy: 0.8648\n",
            "Epoch 63/100\n",
            "250/250 [==============================] - 0s 2ms/step - loss: 0.3376 - accuracy: 0.8640\n",
            "Epoch 64/100\n",
            "250/250 [==============================] - 0s 2ms/step - loss: 0.3376 - accuracy: 0.8646\n",
            "Epoch 65/100\n",
            "250/250 [==============================] - 1s 3ms/step - loss: 0.3368 - accuracy: 0.8652\n",
            "Epoch 66/100\n",
            "250/250 [==============================] - 1s 3ms/step - loss: 0.3372 - accuracy: 0.8650\n",
            "Epoch 67/100\n",
            "250/250 [==============================] - 1s 3ms/step - loss: 0.3372 - accuracy: 0.8630\n",
            "Epoch 68/100\n",
            "250/250 [==============================] - 1s 3ms/step - loss: 0.3370 - accuracy: 0.8635\n",
            "Epoch 69/100\n",
            "250/250 [==============================] - 1s 2ms/step - loss: 0.3368 - accuracy: 0.8639\n",
            "Epoch 70/100\n",
            "250/250 [==============================] - 0s 2ms/step - loss: 0.3369 - accuracy: 0.8644\n",
            "Epoch 71/100\n",
            "250/250 [==============================] - 0s 2ms/step - loss: 0.3369 - accuracy: 0.8651\n",
            "Epoch 72/100\n",
            "250/250 [==============================] - 0s 2ms/step - loss: 0.3367 - accuracy: 0.8637\n",
            "Epoch 73/100\n",
            "250/250 [==============================] - 0s 2ms/step - loss: 0.3365 - accuracy: 0.8635\n",
            "Epoch 74/100\n",
            "250/250 [==============================] - 0s 2ms/step - loss: 0.3365 - accuracy: 0.8639\n",
            "Epoch 75/100\n",
            "250/250 [==============================] - 0s 2ms/step - loss: 0.3363 - accuracy: 0.8659\n",
            "Epoch 76/100\n",
            "250/250 [==============================] - 0s 2ms/step - loss: 0.3368 - accuracy: 0.8634\n",
            "Epoch 77/100\n",
            "250/250 [==============================] - 0s 2ms/step - loss: 0.3361 - accuracy: 0.8659\n",
            "Epoch 78/100\n",
            "250/250 [==============================] - 0s 2ms/step - loss: 0.3362 - accuracy: 0.8618\n",
            "Epoch 79/100\n",
            "250/250 [==============================] - 0s 2ms/step - loss: 0.3360 - accuracy: 0.8640\n",
            "Epoch 80/100\n",
            "250/250 [==============================] - 0s 2ms/step - loss: 0.3362 - accuracy: 0.8651\n",
            "Epoch 81/100\n",
            "250/250 [==============================] - 0s 2ms/step - loss: 0.3358 - accuracy: 0.8644\n",
            "Epoch 82/100\n",
            "250/250 [==============================] - 0s 2ms/step - loss: 0.3361 - accuracy: 0.8645\n",
            "Epoch 83/100\n",
            "250/250 [==============================] - 0s 2ms/step - loss: 0.3358 - accuracy: 0.8645\n",
            "Epoch 84/100\n",
            "250/250 [==============================] - 0s 2ms/step - loss: 0.3355 - accuracy: 0.8664\n",
            "Epoch 85/100\n",
            "250/250 [==============================] - 0s 2ms/step - loss: 0.3353 - accuracy: 0.8636\n",
            "Epoch 86/100\n",
            "250/250 [==============================] - 0s 2ms/step - loss: 0.3356 - accuracy: 0.8646\n",
            "Epoch 87/100\n",
            "250/250 [==============================] - 0s 2ms/step - loss: 0.3353 - accuracy: 0.8655\n",
            "Epoch 88/100\n",
            "250/250 [==============================] - 0s 2ms/step - loss: 0.3355 - accuracy: 0.8651\n",
            "Epoch 89/100\n",
            "250/250 [==============================] - 0s 2ms/step - loss: 0.3352 - accuracy: 0.8636\n",
            "Epoch 90/100\n",
            "250/250 [==============================] - 1s 3ms/step - loss: 0.3353 - accuracy: 0.8639\n",
            "Epoch 91/100\n",
            "250/250 [==============================] - 1s 3ms/step - loss: 0.3352 - accuracy: 0.8651\n",
            "Epoch 92/100\n",
            "250/250 [==============================] - 1s 3ms/step - loss: 0.3348 - accuracy: 0.8634\n",
            "Epoch 93/100\n",
            "250/250 [==============================] - 1s 3ms/step - loss: 0.3350 - accuracy: 0.8637\n",
            "Epoch 94/100\n",
            "250/250 [==============================] - 1s 2ms/step - loss: 0.3355 - accuracy: 0.8639\n",
            "Epoch 95/100\n",
            "250/250 [==============================] - 1s 2ms/step - loss: 0.3348 - accuracy: 0.8643\n",
            "Epoch 96/100\n",
            "250/250 [==============================] - 1s 2ms/step - loss: 0.3353 - accuracy: 0.8640\n",
            "Epoch 97/100\n",
            "250/250 [==============================] - 1s 2ms/step - loss: 0.3351 - accuracy: 0.8636\n",
            "Epoch 98/100\n",
            "250/250 [==============================] - 1s 2ms/step - loss: 0.3341 - accuracy: 0.8639\n",
            "Epoch 99/100\n",
            "250/250 [==============================] - 1s 2ms/step - loss: 0.3354 - accuracy: 0.8635\n",
            "Epoch 100/100\n",
            "250/250 [==============================] - 1s 2ms/step - loss: 0.3349 - accuracy: 0.8635\n"
          ]
        },
        {
          "output_type": "execute_result",
          "data": {
            "text/plain": [
              "<keras.src.callbacks.History at 0x7e755e244ac0>"
            ]
          },
          "metadata": {},
          "execution_count": 47
        }
      ]
    },
    {
      "cell_type": "markdown",
      "source": [
        "**Membuat Prediksi**"
      ],
      "metadata": {
        "id": "VPo8-9OPUAOn"
      }
    },
    {
      "cell_type": "markdown",
      "source": [
        "Modelkan Data Baru dan Buat Prediksi"
      ],
      "metadata": {
        "id": "Z6ihGfA1Ueax"
      }
    },
    {
      "cell_type": "code",
      "source": [
        "print(ann.predict(sc.transform([[1, 0, 0, 600, 1, 40, 3, 60000, 2, 1, 1, 50000]])) > 0.5)"
      ],
      "metadata": {
        "colab": {
          "base_uri": "https://localhost:8080/"
        },
        "id": "vmdjjlnmUg1y",
        "outputId": "0eba8fb4-52a5-449e-e90b-80c95d5f6b09"
      },
      "execution_count": null,
      "outputs": [
        {
          "output_type": "stream",
          "name": "stdout",
          "text": [
            "1/1 [==============================] - 0s 392ms/step\n",
            "[[False]]\n"
          ]
        }
      ]
    },
    {
      "cell_type": "markdown",
      "source": [
        "Prediksi Dengan Data Testing"
      ],
      "metadata": {
        "id": "fyAt3KrPUiXz"
      }
    },
    {
      "cell_type": "code",
      "source": [
        "y_pred = ann.predict(X_test)\n",
        "y_pred = (y_pred > 0.5)\n",
        "print(np.concatenate((y_pred.reshape(len(y_pred),1), y_test.reshape(len(y_test),1)),1))"
      ],
      "metadata": {
        "colab": {
          "base_uri": "https://localhost:8080/"
        },
        "id": "1d0w8KyTUkRI",
        "outputId": "d88039be-3135-4c0d-df4d-83ab3c890ec4"
      },
      "execution_count": null,
      "outputs": [
        {
          "output_type": "stream",
          "name": "stdout",
          "text": [
            "63/63 [==============================] - 0s 3ms/step\n",
            "[[0 0]\n",
            " [0 1]\n",
            " [0 0]\n",
            " ...\n",
            " [0 0]\n",
            " [0 0]\n",
            " [0 0]]\n"
          ]
        }
      ]
    },
    {
      "cell_type": "markdown",
      "source": [
        "Cek Akurasi dan Confusion Matrix"
      ],
      "metadata": {
        "id": "d8pS1eSnUotR"
      }
    },
    {
      "cell_type": "code",
      "source": [
        "from sklearn.metrics import confusion_matrix, accuracy_score\n",
        "cm = confusion_matrix(y_test, y_pred)\n",
        "print(cm)\n",
        "accuracy_score(y_test, y_pred)"
      ],
      "metadata": {
        "colab": {
          "base_uri": "https://localhost:8080/"
        },
        "id": "AoLdZ12WUpWR",
        "outputId": "bcc33c96-277b-40ae-ad96-02f134955f0e"
      },
      "execution_count": null,
      "outputs": [
        {
          "output_type": "stream",
          "name": "stdout",
          "text": [
            "[[1514   81]\n",
            " [ 187  218]]\n"
          ]
        },
        {
          "output_type": "execute_result",
          "data": {
            "text/plain": [
              "0.866"
            ]
          },
          "metadata": {},
          "execution_count": 50
        }
      ]
    },
    {
      "cell_type": "markdown",
      "source": [
        "**TUGAS**"
      ],
      "metadata": {
        "id": "_0hFCLTIUsAA"
      }
    },
    {
      "cell_type": "markdown",
      "source": [
        "**Langkah 1: Import Library**"
      ],
      "metadata": {
        "id": "bM7trXdYVecM"
      }
    },
    {
      "cell_type": "code",
      "source": [
        "import tensorflow as tf\n",
        "from tensorflow import keras\n",
        "from tensorflow.keras import layers\n",
        "import matplotlib.pyplot as plt"
      ],
      "metadata": {
        "id": "MThmxzFXVPdJ"
      },
      "execution_count": null,
      "outputs": []
    },
    {
      "cell_type": "markdown",
      "source": [
        "**Langkah 2: Load Dataset MNIST**"
      ],
      "metadata": {
        "id": "FN68qbiTVjPM"
      }
    },
    {
      "cell_type": "code",
      "source": [
        "mnist = keras.datasets.mnist\n",
        "(train_images, train_labels), (test_images, test_labels) = mnist.load_data()"
      ],
      "metadata": {
        "colab": {
          "base_uri": "https://localhost:8080/"
        },
        "id": "SHAYU58VVTz2",
        "outputId": "b76a411d-5ab3-4e97-c2f6-41fc15962204"
      },
      "execution_count": null,
      "outputs": [
        {
          "output_type": "stream",
          "name": "stdout",
          "text": [
            "Downloading data from https://storage.googleapis.com/tensorflow/tf-keras-datasets/mnist.npz\n",
            "11490434/11490434 [==============================] - 0s 0us/step\n"
          ]
        }
      ]
    },
    {
      "cell_type": "markdown",
      "source": [
        "**Langkah 3: Pra Pengolahan Data**"
      ],
      "metadata": {
        "id": "BPGeKkyhVmX0"
      }
    },
    {
      "cell_type": "code",
      "source": [
        "train_images = train_images.reshape(-1, 28*28)\n",
        "test_images = test_images.reshape(-1, 28*28)\n",
        "\n",
        "train_images = train_images / 255.0\n",
        "test_images = test_images / 255.0"
      ],
      "metadata": {
        "id": "cATpbvi5VWn_"
      },
      "execution_count": null,
      "outputs": []
    },
    {
      "cell_type": "markdown",
      "source": [
        "**Langkah 4: Arsitektur ANN**"
      ],
      "metadata": {
        "id": "6lnG-wKCVuGy"
      }
    },
    {
      "cell_type": "code",
      "source": [
        "model = keras.Sequential([\n",
        "    layers.Dense(128, activation='relu', input_shape=(784,)),\n",
        "    layers.Dense(64, activation='relu'),\n",
        "    layers.Dense(10, activation='softmax')\n",
        "])"
      ],
      "metadata": {
        "id": "mrehueD7VaUj"
      },
      "execution_count": null,
      "outputs": []
    },
    {
      "cell_type": "markdown",
      "source": [
        "**Langkah 5: Kompilasi Model**"
      ],
      "metadata": {
        "id": "EMclBJVwVynC"
      }
    },
    {
      "cell_type": "code",
      "source": [
        "model.compile(optimizer='adam',\n",
        "              loss='sparse_categorical_crossentropy',\n",
        "              metrics=['accuracy'])"
      ],
      "metadata": {
        "id": "qXfxoi6FV0vm"
      },
      "execution_count": null,
      "outputs": []
    },
    {
      "cell_type": "markdown",
      "source": [
        "**Langkah 6: Pelatihan Model**"
      ],
      "metadata": {
        "id": "rgFZprCJV2OZ"
      }
    },
    {
      "cell_type": "code",
      "source": [
        "model.fit(train_images, train_labels, epochs=10, validation_split=0.2)"
      ],
      "metadata": {
        "colab": {
          "base_uri": "https://localhost:8080/"
        },
        "id": "_db7jbsdV536",
        "outputId": "cb74df8c-d2a2-4913-a2a9-b695acfc35f3"
      },
      "execution_count": null,
      "outputs": [
        {
          "output_type": "stream",
          "name": "stdout",
          "text": [
            "Epoch 1/10\n",
            "1500/1500 [==============================] - 13s 8ms/step - loss: 0.2697 - accuracy: 0.9204 - val_loss: 0.1263 - val_accuracy: 0.9613\n",
            "Epoch 2/10\n",
            "1500/1500 [==============================] - 9s 6ms/step - loss: 0.1116 - accuracy: 0.9661 - val_loss: 0.1032 - val_accuracy: 0.9680\n",
            "Epoch 3/10\n",
            "1500/1500 [==============================] - 7s 5ms/step - loss: 0.0780 - accuracy: 0.9756 - val_loss: 0.0957 - val_accuracy: 0.9710\n",
            "Epoch 4/10\n",
            "1500/1500 [==============================] - 8s 6ms/step - loss: 0.0580 - accuracy: 0.9817 - val_loss: 0.0964 - val_accuracy: 0.9714\n",
            "Epoch 5/10\n",
            "1500/1500 [==============================] - 8s 5ms/step - loss: 0.0463 - accuracy: 0.9854 - val_loss: 0.1065 - val_accuracy: 0.9719\n",
            "Epoch 6/10\n",
            "1500/1500 [==============================] - 8s 5ms/step - loss: 0.0365 - accuracy: 0.9885 - val_loss: 0.1044 - val_accuracy: 0.9721\n",
            "Epoch 7/10\n",
            "1500/1500 [==============================] - 8s 6ms/step - loss: 0.0291 - accuracy: 0.9904 - val_loss: 0.0985 - val_accuracy: 0.9727\n",
            "Epoch 8/10\n",
            "1500/1500 [==============================] - 8s 5ms/step - loss: 0.0235 - accuracy: 0.9926 - val_loss: 0.1066 - val_accuracy: 0.9744\n",
            "Epoch 9/10\n",
            "1500/1500 [==============================] - 15s 10ms/step - loss: 0.0225 - accuracy: 0.9926 - val_loss: 0.1004 - val_accuracy: 0.9772\n",
            "Epoch 10/10\n",
            "1500/1500 [==============================] - 10s 7ms/step - loss: 0.0181 - accuracy: 0.9939 - val_loss: 0.1173 - val_accuracy: 0.9751\n"
          ]
        },
        {
          "output_type": "execute_result",
          "data": {
            "text/plain": [
              "<keras.src.callbacks.History at 0x7e755c07a3e0>"
            ]
          },
          "metadata": {},
          "execution_count": 57
        }
      ]
    },
    {
      "cell_type": "markdown",
      "source": [
        "**Langkah 7: Evaluasi Model**"
      ],
      "metadata": {
        "id": "V0e6QT9NWNhJ"
      }
    },
    {
      "cell_type": "code",
      "source": [
        "test_loss, test_accuracy = model.evaluate(test_images, test_labels)\n",
        "print(\"Test accuracy: {:.4f}\".format(test_accuracy))"
      ],
      "metadata": {
        "colab": {
          "base_uri": "https://localhost:8080/"
        },
        "id": "lipmSITBWVEB",
        "outputId": "86bbde9b-18a1-476a-a90b-9d94322b93c2"
      },
      "execution_count": null,
      "outputs": [
        {
          "output_type": "stream",
          "name": "stdout",
          "text": [
            "313/313 [==============================] - 1s 2ms/step - loss: 0.0980 - accuracy: 0.9754\n",
            "Test accuracy: 0.9754\n"
          ]
        }
      ]
    },
    {
      "cell_type": "markdown",
      "source": [
        "**Langkah 8: Confusion Matrix**"
      ],
      "metadata": {
        "id": "sgu6nZWbWg8J"
      }
    },
    {
      "cell_type": "code",
      "source": [
        "from sklearn.metrics import confusion_matrix\n",
        "\n",
        "predicted_labels = model.predict(test_images)\n",
        "predicted_labels = [tf.argmax(label).numpy() for label in predicted_labels]\n",
        "\n",
        "confusion = confusion_matrix(test_labels, predicted_labels)\n",
        "print(confusion)"
      ],
      "metadata": {
        "colab": {
          "base_uri": "https://localhost:8080/"
        },
        "id": "dS1fmq-GWi9Y",
        "outputId": "1f104d2a-55ee-4793-ee50-8e083dfa6049"
      },
      "execution_count": null,
      "outputs": [
        {
          "output_type": "stream",
          "name": "stdout",
          "text": [
            "313/313 [==============================] - 1s 4ms/step\n",
            "[[ 974    1    1    1    0    1    1    0    1    0]\n",
            " [   0 1123    2    2    0    1    3    1    3    0]\n",
            " [   4    1 1004    4    2    0    2    8    7    0]\n",
            " [   0    0    3  990    0    9    0    3    1    4]\n",
            " [   4    1    2    1  952    1    9    2    1    9]\n",
            " [   4    0    0   10    0  866    9    1    1    1]\n",
            " [   6    3    0    1    3    1  942    1    1    0]\n",
            " [   2    7    6    3    1    0    0 1004    2    3]\n",
            " [   7    0    3   16    1    3    2    1  937    4]\n",
            " [   4    4    1   12   13    2    0    9    2  962]]\n"
          ]
        }
      ]
    },
    {
      "cell_type": "markdown",
      "source": [
        "**HASIL**"
      ],
      "metadata": {
        "id": "9lI308zoWmGc"
      }
    },
    {
      "cell_type": "markdown",
      "source": [
        "1. Akurasi\n",
        "\n",
        "\n",
        "*   Akurasi model pada data pengujian adalah sekitar 97.76%.\n",
        "\n",
        "Akurasi mengukur sejauh mana model ANN dapat mengklasifikasikan digit-digit pada dataset MNIST dengan benar.\n",
        "\n",
        "*   Akurasi 97.76% menunjukkan bahwa model mampu mengenali sebagian besar digit dengan tingkat keberhasilan yang tinggi.\n",
        "\n"
      ],
      "metadata": {
        "id": "EKPqT4vdWoa1"
      }
    },
    {
      "cell_type": "markdown",
      "source": [
        "2. Confusion Matrix:\n",
        "![Screenshot 2023-11-02 210733.png](data:image/png;base64,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)"
      ],
      "metadata": {
        "id": "eysCwmdFWzNb"
      }
    },
    {
      "cell_type": "markdown",
      "source": [
        "\n",
        "    - Confusion matrix adalah tabel 10x10 yang menggambarkan performa model dalam mengklasifikasikan digit-digit dari dataset MNIST.\n",
        "\n",
        "    - Diagonal utama dari kiri atas ke kanan bawah menggambarkan jumlah prediksi yang benar untuk setiap kelas (digit 0 hingga 9).\n",
        "\n",
        "    - Diagonal lainnya menunjukkan kesalahan prediksi. Misalnya, baris pertama dan kolom kedua (1st row, 2nd column) berisi jumlah gambar digit 0 yang salah diprediksi sebagai digit 1.\n",
        "\n",
        "    - Angka-angka di matriks ini menggambarkan jumlah gambar yang terklasifikasi dengan benar (true positives) dan yang salah (false positives dan false negatives).\n",
        "\n",
        "    - Misalnya, terdapat 2 gambar digit 0 yang salah diprediksi sebagai digit 1, dan terdapat 10 gambar digit 5 yang salah diprediksi sebagai digit 3.\n",
        "\n",
        "\n",
        "\n",
        "\n"
      ],
      "metadata": {
        "id": "IxeG800bXJvx"
      }
    },
    {
      "cell_type": "markdown",
      "source": [
        "3. Konfigurasi Model\n",
        "\n",
        "\n",
        "\n",
        "*   Pra Pengolahan Data:\n",
        "Citra-citra dari dataset MNIST dilatih setelah diubah menjadi vektor 1D dan dinormalisasi agar berada dalam rentang 0 hingga 1.\n",
        "\n",
        "*   Arsitektur ANN\n",
        "\n",
        "*   Model menggunakan arsitektur ANN dengan tiga lapisan, yaitu satu lapisan input, dua lapisan tersembunyi, dan satu lapisan output.\n",
        "\n",
        "*   Input layer memiliki 784 unit (28x28 piksel) dan fungsi aktivasi ReLU.\n",
        "\n",
        "*   Hidden layer pertama memiliki 128 unit dengan aktivasi ReLU.\n",
        "    \n",
        "*   Hidden layer kedua memiliki 64 unit dengan aktivasi ReLU.\n",
        "\n",
        "*   Output layer memiliki 10 unit (sesuai dengan jumlah kelas digit) dengan aktivasi softmax.\n",
        "\n"
      ],
      "metadata": {
        "id": "lUI4-8bcXZgd"
      }
    },
    {
      "cell_type": "markdown",
      "source": [
        "**Pelatihan Model**\n",
        "\n",
        "Model dilatih selama 10 epoch dengan menggunakan optimizer 'adam', loss function 'sparse_categorical_crossentropy' (karena ini adalah masalah klasifikasi multikelas), dan metrik akurasi.\n",
        "\n",
        "* Hasil :\n",
        "\n",
        "Model mencapai akurasi sekitar 97.76% pada data pengujian, yang menunjukkan kemampuan yang sangat baik dalam mengklasifikasikan digit-digit MNIST."
      ],
      "metadata": {
        "id": "Nz5A5Q7HXwg6"
      }
    }
  ]
}